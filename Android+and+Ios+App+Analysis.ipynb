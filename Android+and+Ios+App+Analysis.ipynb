{
 "cells": [
  {
   "cell_type": "markdown",
   "metadata": {},
   "source": [
    "<h1>Category Analysis of Popular Apps </h1> \n",
    "\n",
    "<h2>Goal:</h2>\n",
    "\n",
    "Do an in-depth study as to what characteristics and attributes can yield the most profit for in ad revenue among Andriod and IOS apps market.\n",
    "\n",
    "<h2>Source:</h2>\n",
    "\n",
    "The data set use to analyse trends in both market came from <a href=\"https://www.kaggle.com/\">Kraggle</a>.\n",
    "\n",
    "<ul>\n",
    "<li>Google Market: <a href=\"https://www.kaggle.com/lava18/google-play-store-apps/\">Data</a> contains 10,000 records from google play</li>\n",
    "<li> Apple Market: <a href=\"https://www.kaggle.com/ramamet4/app-store-apple-data-set-10k-apps/\">Data</a> contains 7,000 Records from IOS store</li>\n",
    "</ul>\n",
    "\n",
    "<H1> Creating Functions:</H1>\n",
    "\n",
    "I will be creating two functions to help with processing the date.\n",
    "\n",
    "<ul>\n",
    "<li>Extract: import data set in a list</li>\n",
    "<li>Explore Data: print out the content in a list </li>\n",
    "</ul>\n",
    "\n",
    "\n",
    "\n"
   ]
  },
  {
   "cell_type": "code",
   "execution_count": 109,
   "metadata": {
    "collapsed": true
   },
   "outputs": [],
   "source": [
    "# this allows the user to enter a CSV file name as a parameter to be used in a variable\n",
    "from csv import reader\n",
    "def extract_file(file_name):\n",
    "    open_file=open(file_name)\n",
    "    read_file=reader(open_file)\n",
    "    items=list(read_file)\n",
    "    return items[0],items[1:]\n",
    "\n",
    "# this function will help explore the data  \n",
    "def explore_data(dataset, start, end, rows_and_columns=False):\n",
    "    dataset_slice = dataset[start:end]    \n",
    "    for row in dataset_slice:\n",
    "        print(row)\n",
    "        print('\\n') \n",
    "\n",
    "    if rows_and_columns:\n",
    "        print('Number of rows:', len(dataset))\n",
    "        print('Number of columns:', len(dataset[0]))"
   ]
  },
  {
   "cell_type": "code",
   "execution_count": 110,
   "metadata": {
    "collapsed": false
   },
   "outputs": [],
   "source": [
    "android_header,android = extract_file('googleplaystore.csv')\n",
    "ios_header, ios = extract_file('AppleStore.csv')\n"
   ]
  },
  {
   "cell_type": "code",
   "execution_count": 111,
   "metadata": {
    "collapsed": false,
    "scrolled": true
   },
   "outputs": [
    {
     "name": "stdout",
     "output_type": "stream",
     "text": [
      "['App', 'Category', 'Rating', 'Reviews', 'Size', 'Installs', 'Type', 'Price', 'Content Rating', 'Genres', 'Last Updated', 'Current Ver', 'Android Ver']\n",
      "\n",
      "\n",
      "['Photo Editor & Candy Camera & Grid & ScrapBook', 'ART_AND_DESIGN', '4.1', '159', '19M', '10,000+', 'Free', '0', 'Everyone', 'Art & Design', 'January 7, 2018', '1.0.0', '4.0.3 and up']\n",
      "\n",
      "\n",
      "['Coloring book moana', 'ART_AND_DESIGN', '3.9', '967', '14M', '500,000+', 'Free', '0', 'Everyone', 'Art & Design;Pretend Play', 'January 15, 2018', '2.0.0', '4.0.3 and up']\n",
      "\n",
      "\n",
      "Number of rows: 10841\n",
      "Number of columns: 13\n"
     ]
    }
   ],
   "source": [
    "#printing the android data\n",
    "print(android_header)\n",
    "print('\\n')\n",
    "explore_data(android, 0, 2, True)\n"
   ]
  },
  {
   "cell_type": "code",
   "execution_count": 112,
   "metadata": {
    "collapsed": false
   },
   "outputs": [
    {
     "name": "stdout",
     "output_type": "stream",
     "text": [
      "['id', 'track_name', 'size_bytes', 'currency', 'price', 'rating_count_tot', 'rating_count_ver', 'user_rating', 'user_rating_ver', 'ver', 'cont_rating', 'prime_genre', 'sup_devices.num', 'ipadSc_urls.num', 'lang.num', 'vpp_lic']\n",
      "\n",
      "\n",
      "['284882215', 'Facebook', '389879808', 'USD', '0.0', '2974676', '212', '3.5', '3.5', '95.0', '4+', 'Social Networking', '37', '1', '29', '1']\n",
      "\n",
      "\n",
      "['389801252', 'Instagram', '113954816', 'USD', '0.0', '2161558', '1289', '4.5', '4.0', '10.23', '12+', 'Photo & Video', '37', '0', '29', '1']\n",
      "\n",
      "\n",
      "['529479190', 'Clash of Clans', '116476928', 'USD', '0.0', '2130805', '579', '4.5', '4.5', '9.24.12', '9+', 'Games', '38', '5', '18', '1']\n",
      "\n",
      "\n",
      "Number of rows: 7197\n",
      "Number of columns: 16\n"
     ]
    }
   ],
   "source": [
    "print(ios_header)\n",
    "print('\\n')\n",
    "explore_data(ios, 0, 3, True)"
   ]
  },
  {
   "cell_type": "markdown",
   "metadata": {},
   "source": [
    "<H1> Data Cleaning:</H1>\n",
    "\n",
    "There is an error within the google data set, which this discussion <a href=\"https://www.kaggle.com/ramamet4/app-store-apple-data-set-10k-apps/discussion/106176\" >thread</a> goes into details. \n",
    "\n",
    "By reading the discussion, we now know the issue is with the rating column as there should not be a rating higher than 5.\n",
    "\n",
    "With those details, I  loop through the list to find any rating higher than 5.\n",
    "\n"
   ]
  },
  {
   "cell_type": "code",
   "execution_count": 113,
   "metadata": {
    "collapsed": false
   },
   "outputs": [
    {
     "name": "stdout",
     "output_type": "stream",
     "text": [
      "The row tha is causing an issue: [10472]\n",
      "The rating for row [10472] : ['19']\n",
      "['Life Made WI-Fi Touchscreen Photo Frame', '1.9', '19', '3.0M', '1,000+', 'Free', '0', 'Everyone', '', 'February 11, 2018', '1.0.19', '4.0 and up']\n"
     ]
    }
   ],
   "source": [
    "rating=[]\n",
    "at=[]\n",
    "for count,row in enumerate(android):\n",
    "    if float(row[2]) > 5: \n",
    "        at.append(count)\n",
    "        rating.append(row[2])\n",
    "print(\"The row tha is causing an issue:\", at,)\n",
    "print(\"The rating for row\", at, \":\", rating)\n",
    "print(android[10472])"
   ]
  },
  {
   "cell_type": "markdown",
   "metadata": {},
   "source": [
    "From the results we can see the error is at row 10472, which is support by the following <a href=\" https://www.kaggle.com/ramamet4/app-store-apple-data-set-10k-apps/discussion/106176 \n",
    "\">thread information</a>, which state to be at row number 10472 or 10473 (depending on if you have header) to be the error.\n"
   ]
  },
  {
   "cell_type": "markdown",
   "metadata": {},
   "source": [
    "We can deal with this error in two way:\n",
    "<ul>\n",
    "<li>Delete the entire row with the data.</li>\n",
    "<li> Changing the value by best guess.</li>\n",
    "</ul>\n",
    "\n",
    "Although I disagree with deleting the whole row as data analysts what to preserve as much data as possible and I would change the rating to 1.9 then delete, to show how to manipulate the data. "
   ]
  },
  {
   "cell_type": "code",
   "execution_count": 114,
   "metadata": {
    "collapsed": false
   },
   "outputs": [
    {
     "name": "stdout",
     "output_type": "stream",
     "text": [
      "['Life Made WI-Fi Touchscreen Photo Frame', '1.9', 1.9, '3.0M', '1,000+', 'Free', '0', 'Everyone', '', 'February 11, 2018', '1.0.19', '4.0 and up']\n"
     ]
    }
   ],
   "source": [
    "#changing 19 to 1.9\n",
    "android[10472][2]=1.9\n",
    "print(android[10472])\n"
   ]
  },
  {
   "cell_type": "code",
   "execution_count": 115,
   "metadata": {
    "collapsed": false
   },
   "outputs": [
    {
     "name": "stdout",
     "output_type": "stream",
     "text": [
      "['osmino Wi-Fi: free WiFi', 'TOOLS', '4.2', '134203', '4.1M', '10,000,000+', 'Free', '0', 'Everyone', 'Tools', 'August 7, 2018', '6.06.14', '4.4 and up']\n"
     ]
    }
   ],
   "source": [
    "# deleting that row\n",
    "del android[10472]\n",
    "print(android[10472])"
   ]
  },
  {
   "cell_type": "markdown",
   "metadata": {},
   "source": [
    "<H1>Dealing with Duplicates:</H1>\n",
    "\n",
    "The thread mentions duplicates in the data sets. \n",
    "\n",
    "The first step in removing duplicates is to first identify entries that have duplicates by either id or names. Which in this case will use the name. \n"
   ]
  },
  {
   "cell_type": "code",
   "execution_count": 116,
   "metadata": {
    "collapsed": false
   },
   "outputs": [
    {
     "name": "stdout",
     "output_type": "stream",
     "text": [
      "Number of duplicate apps: 1181\n"
     ]
    }
   ],
   "source": [
    "duplicate_apps=[]\n",
    "unique_apps=[]\n",
    "\n",
    "for app in android:\n",
    "    name = app[0]\n",
    "    if name in unique_apps:# Using the in operator reduce the need for another loop block\n",
    "        duplicate_apps.append(name)\n",
    "    else:\n",
    "        unique_apps.append(name)\n",
    "\n",
    "print(\"Number of duplicate apps:\", len(duplicate_apps))\n"
   ]
  },
  {
   "cell_type": "markdown",
   "metadata": {},
   "source": [
    "The results show there are 1181 entries that are duplicates and to verify my results, I printed one instant of the app with multiple entries. "
   ]
  },
  {
   "cell_type": "code",
   "execution_count": 117,
   "metadata": {
    "collapsed": false
   },
   "outputs": [
    {
     "name": "stdout",
     "output_type": "stream",
     "text": [
      "['Slack', 'BUSINESS', '4.4', '51507', 'Varies with device', '5,000,000+', 'Free', '0', 'Everyone', 'Business', 'August 2, 2018', 'Varies with device', 'Varies with device']\n",
      "['Slack', 'BUSINESS', '4.4', '51507', 'Varies with device', '5,000,000+', 'Free', '0', 'Everyone', 'Business', 'August 2, 2018', 'Varies with device', 'Varies with device']\n",
      "['Slack', 'BUSINESS', '4.4', '51510', 'Varies with device', '5,000,000+', 'Free', '0', 'Everyone', 'Business', 'August 2, 2018', 'Varies with device', 'Varies with device']\n"
     ]
    }
   ],
   "source": [
    "for app in android:\n",
    "    name=app[0]\n",
    "    if name == duplicate_apps[9]:\n",
    "        print(app)"
   ]
  },
  {
   "cell_type": "markdown",
   "metadata": {},
   "source": [
    "The second steps are to inspect the records to see if there any distinguished attributes.\n",
    "\n",
    "Upon inspection, we can see all the information is identical with the exception of the number of downloads. In order to clean our data with the most accurate information. We will need to delete all records except the record with the highest downloads. We could have done it by date if there the column was formated in a date-time string which gives us variability.\n",
    "To remove duplicates and exclude entries with the highest rating requires a two-step process.\n",
    "\n",
    "<Ol><li>Is to find the highest rating among the duplicates sets.</li>\n",
    "<li> Is to delete all the duplicates in the primary sets.</li>\n",
    "</Ol>\n"
   ]
  },
  {
   "cell_type": "code",
   "execution_count": 118,
   "metadata": {
    "collapsed": false
   },
   "outputs": [
    {
     "name": "stdout",
     "output_type": "stream",
     "text": [
      "Expected length: 9659\n"
     ]
    }
   ],
   "source": [
    "# the number entrires we should have at the end of the cleaning process\n",
    "print('Expected length:', len(android)-len(duplicate_apps))"
   ]
  },
  {
   "cell_type": "code",
   "execution_count": 119,
   "metadata": {
    "collapsed": false
   },
   "outputs": [
    {
     "data": {
      "text/plain": [
       "9659"
      ]
     },
     "execution_count": 119,
     "metadata": {},
     "output_type": "execute_result"
    }
   ],
   "source": [
    "# first we are finding the higest rating for the each app\n",
    "reviews_max={}\n",
    "\n",
    "for app in android:\n",
    "    name=app[0]\n",
    "    n_reviews=float(app[3])\n",
    "    if name in reviews_max and reviews_max[name]<n_reviews:\n",
    "        reviews_max[name]=n_reviews\n",
    "    if name not in reviews_max:\n",
    "        reviews_max[name]=n_reviews\n",
    "# I should have the same length of 9659\n",
    "len(reviews_max)\n",
    "#print(reviews_max)"
   ]
  },
  {
   "cell_type": "code",
   "execution_count": 120,
   "metadata": {
    "collapsed": false
   },
   "outputs": [
    {
     "data": {
      "text/plain": [
       "9659"
      ]
     },
     "execution_count": 120,
     "metadata": {},
     "output_type": "execute_result"
    }
   ],
   "source": [
    "# We are going to delete all the duplicate entries.\n",
    "android_clean=[]\n",
    "already_added=[]\n",
    "\n",
    "for apps in android:\n",
    "    name= apps[0]\n",
    "    n_reviews=float(apps[3])\n",
    "    #print(n_reviews)\n",
    "    #print(reviews_max[name])\n",
    "    if n_reviews == reviews_max[name] and  name not in already_added:\n",
    "        android_clean.append(apps)\n",
    "        already_added.append(name)\n",
    "len(android_clean)\n",
    "# I should get 9650\n",
    "        \n",
    "    "
   ]
  },
  {
   "cell_type": "markdown",
   "metadata": {},
   "source": [
    "The above code was a two-step process. The first step was to find the highest value of reviews. Then we can compare the name and value in a loop to add only the name and the highest value review to the primary list to delete any duplicates."
   ]
  },
  {
   "cell_type": "markdown",
   "metadata": {},
   "source": [
    "<H1> Removing Non-English Apps: </H1>\n",
    "\n",
    "Upon further research, we found that there are characters that are Non-English in the name column. Which suggests that the application is in the foreign market. \n",
    "\n",
    "Since we are the only interesting in the Us market, we will remove those rows. \n",
    "\n",
    "First is to identify which app name has character other then English we will build a function to return false if a more then three-letter is grater the 127 otherwise return true."
   ]
  },
  {
   "cell_type": "code",
   "execution_count": 121,
   "metadata": {
    "collapsed": true
   },
   "outputs": [],
   "source": [
    "def is_english(a_string):\n",
    "    count=0\n",
    "    for letter in a_string:\n",
    "        number_code = ord(letter)#ord function covert letter to Ascii code\n",
    "        #print(number_code)\n",
    "        if number_code >127 :\n",
    "            count+=1\n",
    "    if count > 3:\n",
    "        return False\n",
    "    else:\n",
    "        return True\n",
    "    \n",
    "            \n",
    "    "
   ]
  },
  {
   "cell_type": "markdown",
   "metadata": {},
   "source": [
    "Test the function is_english"
   ]
  },
  {
   "cell_type": "code",
   "execution_count": 122,
   "metadata": {
    "collapsed": false
   },
   "outputs": [
    {
     "data": {
      "text/plain": [
       "True"
      ]
     },
     "execution_count": 122,
     "metadata": {},
     "output_type": "execute_result"
    }
   ],
   "source": [
    "is_english('Instagram')"
   ]
  },
  {
   "cell_type": "code",
   "execution_count": 123,
   "metadata": {
    "collapsed": false
   },
   "outputs": [
    {
     "data": {
      "text/plain": [
       "False"
      ]
     },
     "execution_count": 123,
     "metadata": {},
     "output_type": "execute_result"
    }
   ],
   "source": [
    "is_english('爱奇艺PPS -《欢乐颂2》电视剧热播')"
   ]
  },
  {
   "cell_type": "code",
   "execution_count": 124,
   "metadata": {
    "collapsed": false
   },
   "outputs": [
    {
     "data": {
      "text/plain": [
       "True"
      ]
     },
     "execution_count": 124,
     "metadata": {},
     "output_type": "execute_result"
    }
   ],
   "source": [
    "is_english('Docs To Go™ Free Office Suite')"
   ]
  },
  {
   "cell_type": "code",
   "execution_count": 125,
   "metadata": {
    "collapsed": false
   },
   "outputs": [
    {
     "data": {
      "text/plain": [
       "True"
      ]
     },
     "execution_count": 125,
     "metadata": {},
     "output_type": "execute_result"
    }
   ],
   "source": [
    "is_english('Instachat 😜')"
   ]
  },
  {
   "cell_type": "markdown",
   "metadata": {},
   "source": [
    "The second steps are to use the is_english function and append all true results in a list. "
   ]
  },
  {
   "cell_type": "code",
   "execution_count": 126,
   "metadata": {
    "collapsed": false
   },
   "outputs": [
    {
     "data": {
      "text/plain": [
       "9614"
      ]
     },
     "execution_count": 126,
     "metadata": {},
     "output_type": "execute_result"
    }
   ],
   "source": [
    "us_market_android=[]\n",
    "for apps in android_clean:\n",
    "    name=apps[0]\n",
    "    if is_english(name)==1:\n",
    "        us_market_android.append(apps)\n",
    "len(us_market_android)\n"
   ]
  },
  {
   "cell_type": "code",
   "execution_count": 127,
   "metadata": {
    "collapsed": false
   },
   "outputs": [
    {
     "data": {
      "text/plain": [
       "6183"
      ]
     },
     "execution_count": 127,
     "metadata": {},
     "output_type": "execute_result"
    }
   ],
   "source": [
    "us_market_ios=[]\n",
    "for apps in ios:\n",
    "    name=apps[1]\n",
    "    if is_english(name)==1:\n",
    "        us_market_ios.append(apps)\n",
    "len(us_market_ios)"
   ]
  },
  {
   "cell_type": "markdown",
   "metadata": {},
   "source": [
    "<H1>Isolating the Free Apps</H1>\n",
    "\n",
    "Now that we have isolated the US market for both platforms, we want to exclude paid applications and keep free applications in our data set, by exploring the data heading we see that price is an index at 7 for android and index 4 at for ios."
   ]
  },
  {
   "cell_type": "code",
   "execution_count": 128,
   "metadata": {
    "collapsed": false
   },
   "outputs": [
    {
     "name": "stdout",
     "output_type": "stream",
     "text": [
      "['App', 'Category', 'Rating', 'Reviews', 'Size', 'Installs', 'Type', 'Price', 'Content Rating', 'Genres', 'Last Updated', 'Current Ver', 'Android Ver']\n",
      "\n",
      "\n"
     ]
    }
   ],
   "source": [
    "print(android_header)\n",
    "print('\\n')"
   ]
  },
  {
   "cell_type": "code",
   "execution_count": 129,
   "metadata": {
    "collapsed": false
   },
   "outputs": [
    {
     "name": "stdout",
     "output_type": "stream",
     "text": [
      "['id', 'track_name', 'size_bytes', 'currency', 'price', 'rating_count_tot', 'rating_count_ver', 'user_rating', 'user_rating_ver', 'ver', 'cont_rating', 'prime_genre', 'sup_devices.num', 'ipadSc_urls.num', 'lang.num', 'vpp_lic']\n",
      "\n",
      "\n"
     ]
    }
   ],
   "source": [
    "print(ios_header)\n",
    "print('\\n')"
   ]
  },
  {
   "cell_type": "code",
   "execution_count": 130,
   "metadata": {
    "collapsed": false
   },
   "outputs": [
    {
     "data": {
      "text/plain": [
       "8864"
      ]
     },
     "execution_count": 130,
     "metadata": {},
     "output_type": "execute_result"
    }
   ],
   "source": [
    "# by looping each row and appending price that is zero give us\n",
    "# free apps in the use market for andriod\n",
    "us_android_free=[]\n",
    "for apps in us_market_android:\n",
    "    price=apps[7]\n",
    "    if price == '0':\n",
    "        us_android_free.append(apps)\n",
    "len(us_android_free)# give us the results\n",
    "\n",
    "\n",
    "    "
   ]
  },
  {
   "cell_type": "code",
   "execution_count": 131,
   "metadata": {
    "collapsed": false
   },
   "outputs": [
    {
     "data": {
      "text/plain": [
       "3222"
      ]
     },
     "execution_count": 131,
     "metadata": {},
     "output_type": "execute_result"
    }
   ],
   "source": [
    "# by looping each row and appending price that is zero give us\n",
    "# free apps in the use market for ios\n",
    "us_ios_free=[]\n",
    "for apps in us_market_ios:\n",
    "    price=float(apps[4])\n",
    "    if price == 0:\n",
    "        us_ios_free.append(apps)\n",
    "len(us_ios_free)# give us the results\n"
   ]
  },
  {
   "cell_type": "markdown",
   "metadata": {},
   "source": [
    "<H1> Trend Analyses:</H1>\n",
    "\n",
    "Our end goal is to build a popular app for both market domain in Google Play and App Store.\n",
    "\n",
    "<ol>\n",
    "<li>\n",
    " To accomplish this task is to build a simple premise of the ideal and implemented using a little resource, by adding it to Google Play.</li><br>\n",
    "\n",
    "<li>To monitor the response and should show an upward trend to further develop the applications. \n",
    "</li><br>\n",
    "\n",
    "<li>Provided the feasibility of the application by putting profit benchmarks and when the benchmarks are met to also deploy the application on the ios platform and submitting it to the App store.\n",
    "</li><br>\n",
    "\n",
    "</ol>\n",
    "\n",
    "Using the data set that we have on hand, we will explore and see what columns would be beneficial to generate a frequency table to uncover hidden trends.\n",
    "\n",
    "We do this by print the head columns of both data sets.\n",
    "\n",
    "\n"
   ]
  },
  {
   "cell_type": "code",
   "execution_count": 132,
   "metadata": {
    "collapsed": false,
    "scrolled": true
   },
   "outputs": [
    {
     "name": "stdout",
     "output_type": "stream",
     "text": [
      "['App', 'Category', 'Rating', 'Reviews', 'Size', 'Installs', 'Type', 'Price', 'Content Rating', 'Genres', 'Last Updated', 'Current Ver', 'Android Ver']\n",
      "\n",
      "\n",
      "['id', 'track_name', 'size_bytes', 'currency', 'price', 'rating_count_tot', 'rating_count_ver', 'user_rating', 'user_rating_ver', 'ver', 'cont_rating', 'prime_genre', 'sup_devices.num', 'ipadSc_urls.num', 'lang.num', 'vpp_lic']\n",
      "\n",
      "\n"
     ]
    }
   ],
   "source": [
    "print(android_header)\n",
    "print('\\n')\n",
    "print(ios_header)\n",
    "print('\\n')"
   ]
  },
  {
   "cell_type": "markdown",
   "metadata": {},
   "source": [
    "Now that we review the header from both markets we can use category from the google store and prime_genre from the app store as useful matrics in popularity.\n",
    "\n",
    "We do this by making a frequency table functions, which take the argument of a list and index what column we what a frequency table for. Which would be for Andriod be index 1 and for ios would be index 11.\n"
   ]
  },
  {
   "cell_type": "code",
   "execution_count": 133,
   "metadata": {
    "collapsed": false
   },
   "outputs": [],
   "source": [
    "def freq_table(a_list, a_index):\n",
    "    return_dic={}\n",
    "    for apps in a_list:\n",
    "        name = apps[a_index]\n",
    "        if name in return_dic:\n",
    "            return_dic[name]+=1\n",
    "        else:\n",
    "            return_dic[name]=1\n",
    "    total=len(a_list)\n",
    "    \n",
    "    for key,vlaue in return_dic.items():\n",
    "        return_dic[key]=round((vlaue/total)*100,2)\n",
    "        \n",
    "    return return_dic"
   ]
  },
  {
   "cell_type": "code",
   "execution_count": 134,
   "metadata": {
    "collapsed": false
   },
   "outputs": [
    {
     "name": "stdout",
     "output_type": "stream",
     "text": [
      "{'COMICS': 0.55, 'HOUSE_AND_HOME': 0.81, 'SOCIAL': 2.72, 'PHOTOGRAPHY': 3.09, 'FOOD_AND_DRINK': 1.17, 'HEALTH_AND_FITNESS': 3.15, 'VIDEO_PLAYERS': 1.61, 'NEWS_AND_MAGAZINES': 2.61, 'ENTERTAINMENT': 1.37, 'FAMILY': 18.19, 'GAME': 10.55, 'PRODUCTIVITY': 3.91, 'AUTO_AND_VEHICLES': 0.78, 'BEAUTY': 0.49, 'TOOLS': 7.78, 'LIBRARIES_AND_DEMO': 0.78, 'WEATHER': 0.76, 'DATING': 2.16, 'PARENTING': 0.55, 'ART_AND_DESIGN': 0.6, 'SPORTS': 3.54, 'COMMUNICATION': 3.57, 'SHOPPING': 2.4, 'FINANCE': 3.38, 'BUSINESS': 4.24, 'TRAVEL_AND_LOCAL': 2.38, 'PERSONALIZATION': 3.62, 'EVENTS': 0.59, 'EDUCATION': 1.44, 'MEDICAL': 4.27, 'BOOKS_AND_REFERENCE': 2.13, 'LIFESTYLE': 3.52, 'MAPS_AND_NAVIGATION': 1.26}\n"
     ]
    }
   ],
   "source": [
    "# testing function for android data sets\n",
    "android_test=freq_table(android,1)\n",
    "print(android_test)"
   ]
  },
  {
   "cell_type": "code",
   "execution_count": 135,
   "metadata": {
    "collapsed": false
   },
   "outputs": [
    {
     "name": "stdout",
     "output_type": "stream",
     "text": [
      "{'Shopping': 1.7, 'Navigation': 0.64, 'Photo & Video': 4.85, 'Book': 1.56, 'Reference': 0.89, 'Catalogs': 0.14, 'Food & Drink': 0.88, 'Productivity': 2.47, 'Games': 53.66, 'Medical': 0.32, 'Entertainment': 7.43, 'Health & Fitness': 2.5, 'Education': 6.29, 'News': 1.04, 'Lifestyle': 2.0, 'Finance': 1.45, 'Weather': 1.0, 'Travel': 1.13, 'Business': 0.79, 'Social Networking': 2.32, 'Music': 1.92, 'Utilities': 3.45, 'Sports': 1.58}\n"
     ]
    }
   ],
   "source": [
    "# testing fuction for ios data sets\n",
    "ios_test=freq_table(ios,11)\n",
    "print(ios_test)"
   ]
  },
  {
   "cell_type": "code",
   "execution_count": 136,
   "metadata": {
    "collapsed": true
   },
   "outputs": [],
   "source": [
    "# a function that will sort the frequancy table which include my freq_table function\n",
    "def display_table(data_set, index):\n",
    "    table = freq_table(data_set, index)\n",
    "    table_display = []\n",
    "    for key in table:\n",
    "        key_val_as_tuple = (table[key], key)\n",
    "        table_display.append(key_val_as_tuple)\n",
    "\n",
    "    table_sorted = sorted(table_display, reverse = True)\n",
    "    for entry in table_sorted:\n",
    "        print(entry[1], ':', entry[0])"
   ]
  },
  {
   "cell_type": "code",
   "execution_count": 137,
   "metadata": {
    "collapsed": false
   },
   "outputs": [
    {
     "name": "stdout",
     "output_type": "stream",
     "text": [
      "Games : 58.16\n",
      "Entertainment : 7.88\n",
      "Photo & Video : 4.97\n",
      "Education : 3.66\n",
      "Social Networking : 3.29\n",
      "Shopping : 2.61\n",
      "Utilities : 2.51\n",
      "Sports : 2.14\n",
      "Music : 2.05\n",
      "Health & Fitness : 2.02\n",
      "Productivity : 1.74\n",
      "Lifestyle : 1.58\n",
      "News : 1.33\n",
      "Travel : 1.24\n",
      "Finance : 1.12\n",
      "Weather : 0.87\n",
      "Food & Drink : 0.81\n",
      "Reference : 0.56\n",
      "Business : 0.53\n",
      "Book : 0.43\n",
      "Navigation : 0.19\n",
      "Medical : 0.19\n",
      "Catalogs : 0.12\n"
     ]
    }
   ],
   "source": [
    "# display_table\n",
    "display_table(us_ios_free,11)"
   ]
  },
  {
   "cell_type": "markdown",
   "metadata": {},
   "source": [
    "As we can see from the results  there some insight we can see such as:\n",
    "\n",
    "The most common genre: Games\n",
    "Second common genre: Entertainment\n",
    "\n",
    "If we were to do a grouping among genre we can see that most downloads are entertainment-based rather then functional base.\n",
    "\n",
    "With this data set we can see there is an oversaturation in the entertainment section which would be harder to develop a break out of the app. But what we can focus on education app as it one of the none-Entertainment genres among the top 5 genres. If done with the approach of entertainment we can be a leader in an emerging genre. \n"
   ]
  },
  {
   "cell_type": "code",
   "execution_count": 138,
   "metadata": {
    "collapsed": false
   },
   "outputs": [
    {
     "name": "stdout",
     "output_type": "stream",
     "text": [
      "FAMILY : 18.91\n",
      "GAME : 9.72\n",
      "TOOLS : 8.46\n",
      "BUSINESS : 4.59\n",
      "LIFESTYLE : 3.9\n",
      "PRODUCTIVITY : 3.89\n",
      "FINANCE : 3.7\n",
      "MEDICAL : 3.53\n",
      "SPORTS : 3.4\n",
      "PERSONALIZATION : 3.32\n",
      "COMMUNICATION : 3.24\n",
      "HEALTH_AND_FITNESS : 3.08\n",
      "PHOTOGRAPHY : 2.94\n",
      "NEWS_AND_MAGAZINES : 2.8\n",
      "SOCIAL : 2.66\n",
      "TRAVEL_AND_LOCAL : 2.34\n",
      "SHOPPING : 2.25\n",
      "BOOKS_AND_REFERENCE : 2.14\n",
      "DATING : 1.86\n",
      "VIDEO_PLAYERS : 1.79\n",
      "MAPS_AND_NAVIGATION : 1.4\n",
      "FOOD_AND_DRINK : 1.24\n",
      "EDUCATION : 1.16\n",
      "ENTERTAINMENT : 0.96\n",
      "LIBRARIES_AND_DEMO : 0.94\n",
      "AUTO_AND_VEHICLES : 0.93\n",
      "HOUSE_AND_HOME : 0.82\n",
      "WEATHER : 0.8\n",
      "EVENTS : 0.71\n",
      "PARENTING : 0.65\n",
      "ART_AND_DESIGN : 0.64\n",
      "COMICS : 0.62\n",
      "BEAUTY : 0.6\n"
     ]
    }
   ],
   "source": [
    "display_table(us_android_free,1)"
   ]
  },
  {
   "cell_type": "code",
   "execution_count": 139,
   "metadata": {
    "collapsed": false
   },
   "outputs": [
    {
     "name": "stdout",
     "output_type": "stream",
     "text": [
      "Tools : 8.45\n",
      "Entertainment : 6.07\n",
      "Education : 5.35\n",
      "Business : 4.59\n",
      "Productivity : 3.89\n",
      "Lifestyle : 3.89\n",
      "Finance : 3.7\n",
      "Medical : 3.53\n",
      "Sports : 3.46\n",
      "Personalization : 3.32\n",
      "Communication : 3.24\n",
      "Action : 3.1\n",
      "Health & Fitness : 3.08\n",
      "Photography : 2.94\n",
      "News & Magazines : 2.8\n",
      "Social : 2.66\n",
      "Travel & Local : 2.32\n",
      "Shopping : 2.25\n",
      "Books & Reference : 2.14\n",
      "Simulation : 2.04\n",
      "Dating : 1.86\n",
      "Arcade : 1.85\n",
      "Video Players & Editors : 1.77\n",
      "Casual : 1.76\n",
      "Maps & Navigation : 1.4\n",
      "Food & Drink : 1.24\n",
      "Puzzle : 1.13\n",
      "Racing : 0.99\n",
      "Role Playing : 0.94\n",
      "Libraries & Demo : 0.94\n",
      "Auto & Vehicles : 0.93\n",
      "Strategy : 0.91\n",
      "House & Home : 0.82\n",
      "Weather : 0.8\n",
      "Events : 0.71\n",
      "Adventure : 0.68\n",
      "Comics : 0.61\n",
      "Beauty : 0.6\n",
      "Art & Design : 0.6\n",
      "Parenting : 0.5\n",
      "Card : 0.45\n",
      "Casino : 0.43\n",
      "Trivia : 0.42\n",
      "Educational;Education : 0.39\n",
      "Board : 0.38\n",
      "Educational : 0.37\n",
      "Education;Education : 0.34\n",
      "Word : 0.26\n",
      "Casual;Pretend Play : 0.24\n",
      "Music : 0.2\n",
      "Racing;Action & Adventure : 0.17\n",
      "Puzzle;Brain Games : 0.17\n",
      "Entertainment;Music & Video : 0.17\n",
      "Casual;Brain Games : 0.14\n",
      "Casual;Action & Adventure : 0.14\n",
      "Arcade;Action & Adventure : 0.12\n",
      "Action;Action & Adventure : 0.1\n",
      "Educational;Pretend Play : 0.09\n",
      "Simulation;Action & Adventure : 0.08\n",
      "Parenting;Education : 0.08\n",
      "Entertainment;Brain Games : 0.08\n",
      "Board;Brain Games : 0.08\n",
      "Parenting;Music & Video : 0.07\n",
      "Educational;Brain Games : 0.07\n",
      "Casual;Creativity : 0.07\n",
      "Art & Design;Creativity : 0.07\n",
      "Education;Pretend Play : 0.06\n",
      "Role Playing;Pretend Play : 0.05\n",
      "Education;Creativity : 0.05\n",
      "Role Playing;Action & Adventure : 0.03\n",
      "Puzzle;Action & Adventure : 0.03\n",
      "Entertainment;Creativity : 0.03\n",
      "Entertainment;Action & Adventure : 0.03\n",
      "Educational;Creativity : 0.03\n",
      "Educational;Action & Adventure : 0.03\n",
      "Education;Music & Video : 0.03\n",
      "Education;Brain Games : 0.03\n",
      "Education;Action & Adventure : 0.03\n",
      "Adventure;Action & Adventure : 0.03\n",
      "Video Players & Editors;Music & Video : 0.02\n",
      "Sports;Action & Adventure : 0.02\n",
      "Simulation;Pretend Play : 0.02\n",
      "Puzzle;Creativity : 0.02\n",
      "Music;Music & Video : 0.02\n",
      "Entertainment;Pretend Play : 0.02\n",
      "Casual;Education : 0.02\n",
      "Board;Action & Adventure : 0.02\n",
      "Video Players & Editors;Creativity : 0.01\n",
      "Trivia;Education : 0.01\n",
      "Travel & Local;Action & Adventure : 0.01\n",
      "Tools;Education : 0.01\n",
      "Strategy;Education : 0.01\n",
      "Strategy;Creativity : 0.01\n",
      "Strategy;Action & Adventure : 0.01\n",
      "Simulation;Education : 0.01\n",
      "Role Playing;Brain Games : 0.01\n",
      "Racing;Pretend Play : 0.01\n",
      "Puzzle;Education : 0.01\n",
      "Parenting;Brain Games : 0.01\n",
      "Music & Audio;Music & Video : 0.01\n",
      "Lifestyle;Pretend Play : 0.01\n",
      "Lifestyle;Education : 0.01\n",
      "Health & Fitness;Education : 0.01\n",
      "Health & Fitness;Action & Adventure : 0.01\n",
      "Entertainment;Education : 0.01\n",
      "Communication;Creativity : 0.01\n",
      "Comics;Creativity : 0.01\n",
      "Casual;Music & Video : 0.01\n",
      "Card;Action & Adventure : 0.01\n",
      "Books & Reference;Education : 0.01\n",
      "Art & Design;Pretend Play : 0.01\n",
      "Art & Design;Action & Adventure : 0.01\n",
      "Arcade;Pretend Play : 0.01\n",
      "Adventure;Education : 0.01\n"
     ]
    }
   ],
   "source": [
    "display_table(us_android_free,9)"
   ]
  },
  {
   "cell_type": "markdown",
   "metadata": {},
   "source": [
    "Analyzing the frequency table Google play we can see that the top category are Family, Game, Tool Business and Genres would be Tools, Entertainment, education, and business.\n",
    "\n",
    "So as we compare two data set we see that ios developers are focus on the entertainment while android developers are more balanced in having both practical apps and fun apps.  \n",
    "\n",
    "We should also include the number of downloads to give better evidence of our analysis. \n"
   ]
  },
  {
   "cell_type": "markdown",
   "metadata": {},
   "source": [
    "To further support of analysis we are going to use the install column from the google play data set but since the app store does not have this column we will use the total number of user ratings as proximation to the total install.\n"
   ]
  },
  {
   "cell_type": "code",
   "execution_count": 140,
   "metadata": {
    "collapsed": false
   },
   "outputs": [
    {
     "name": "stdout",
     "output_type": "stream",
     "text": [
      "Shopping : 26920\n",
      "Navigation : 86090\n",
      "Photo & Video : 28442\n",
      "Book : 39758\n",
      "Reference : 74942\n",
      "Catalogs : 4004\n",
      "Food & Drink : 33334\n",
      "Productivity : 21028\n",
      "Games : 22789\n",
      "Medical : 612\n",
      "Entertainment : 14030\n",
      "Health & Fitness : 23298\n",
      "Education : 7004\n",
      "News : 21248\n",
      "Lifestyle : 16486\n",
      "Finance : 31468\n",
      "Weather : 52280\n",
      "Travel : 28244\n",
      "Business : 7491\n",
      "Social Networking : 71548\n",
      "Music : 57327\n",
      "Utilities : 18684\n",
      "Sports : 23009\n"
     ]
    }
   ],
   "source": [
    "prime_genre =freq_table(us_ios_free,-5)\n",
    "\n",
    "for genre in prime_genre:\n",
    "    total=0\n",
    "    len_genre=0\n",
    "    for apps in us_ios_free:\n",
    "        genre_app=apps[-5]\n",
    "        if genre_app==genre:\n",
    "            total+=float(apps[5])\n",
    "            len_genre+=1\n",
    "    avg=total/len_genre\n",
    "    print(genre,\":\",round(avg)) #sorted(table_display, reverse = True)\n",
    "    #print(genre)"
   ]
  },
  {
   "cell_type": "markdown",
   "metadata": {},
   "source": [
    "Further diving into the data we do see that an app profile such as reference is the top applications with the most downloads, followed by weather, lifestyle. \n",
    "Which now we can focus on low app development in the market place with a high download count.\n"
   ]
  },
  {
   "cell_type": "code",
   "execution_count": 141,
   "metadata": {
    "collapsed": false
   },
   "outputs": [
    {
     "name": "stdout",
     "output_type": "stream",
     "text": [
      "COMICS : 817657\n",
      "HOUSE_AND_HOME : 1331541\n",
      "SOCIAL : 23253652\n",
      "PHOTOGRAPHY : 17840110\n",
      "FOOD_AND_DRINK : 1924898\n",
      "HEALTH_AND_FITNESS : 4188822\n",
      "VIDEO_PLAYERS : 24727872\n",
      "NEWS_AND_MAGAZINES : 9549178\n",
      "ENTERTAINMENT : 11640706\n",
      "FAMILY : 3695642\n",
      "GAME : 15588016\n",
      "PRODUCTIVITY : 16787331\n",
      "AUTO_AND_VEHICLES : 647318\n",
      "BEAUTY : 513152\n",
      "TOOLS : 10801391\n",
      "LIBRARIES_AND_DEMO : 638504\n",
      "WEATHER : 5074486\n",
      "DATING : 854029\n",
      "PARENTING : 542604\n",
      "ART_AND_DESIGN : 1986335\n",
      "SPORTS : 3638640\n",
      "COMMUNICATION : 38456119\n",
      "SHOPPING : 7036877\n",
      "FINANCE : 1387692\n",
      "BUSINESS : 1712290\n",
      "TRAVEL_AND_LOCAL : 13984078\n",
      "PERSONALIZATION : 5201483\n",
      "EVENTS : 253542\n",
      "EDUCATION : 1833495\n",
      "MEDICAL : 120551\n",
      "BOOKS_AND_REFERENCE : 8767812\n",
      "LIFESTYLE : 1437816\n",
      "MAPS_AND_NAVIGATION : 4056942\n"
     ]
    }
   ],
   "source": [
    "google_cat=freq_table(us_android_free,1)\n",
    "for category in google_cat:\n",
    "    total=0\n",
    "    len_category=0\n",
    "    for apps in us_android_free:\n",
    "        category_app=apps[1]\n",
    "        if category_app==category:\n",
    "            n_install=apps[5]\n",
    "            n_install =n_install.replace('+','')\n",
    "            n_install= n_install.replace(',','')\n",
    "            total+=float(n_install)\n",
    "            len_category+=1\n",
    "    avg=total/len_category\n",
    "    print(category,\":\",round(avg))"
   ]
  },
  {
   "cell_type": "markdown",
   "metadata": {},
   "source": [
    "Looking at both data sets we can see that there room to grow in the education application for both google and ios. "
   ]
  }
 ],
 "metadata": {
  "kernelspec": {
   "display_name": "Python 3",
   "language": "python",
   "name": "python3"
  },
  "language_info": {
   "codemirror_mode": {
    "name": "ipython",
    "version": 3
   },
   "file_extension": ".py",
   "mimetype": "text/x-python",
   "name": "python",
   "nbconvert_exporter": "python",
   "pygments_lexer": "ipython3",
   "version": "3.4.3"
  }
 },
 "nbformat": 4,
 "nbformat_minor": 2
}
